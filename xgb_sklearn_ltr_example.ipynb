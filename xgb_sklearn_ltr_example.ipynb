{
 "cells": [
  {
   "cell_type": "markdown",
   "metadata": {},
   "source": [
    "https://github.com/Weirping/xgbranker_sklearn"
   ]
  },
  {
   "cell_type": "code",
   "execution_count": 1,
   "metadata": {},
   "outputs": [],
   "source": [
    "import numpy as np\n",
    "from sklearn.datasets import load_svmlight_file\n",
    "\n",
    "data = load_svmlight_file('./data/train.txt',query_id =True)\n",
    "\n",
    "X, y, g = data[0].toarray(), data[1], data[2]\n",
    "\n",
    "group_X = np.c_[g, X]"
   ]
  },
  {
   "cell_type": "code",
   "execution_count": 11,
   "metadata": {},
   "outputs": [
    {
     "data": {
      "text/plain": [
       "array([0., 0., 0., ..., 0., 0., 0.])"
      ]
     },
     "execution_count": 11,
     "metadata": {},
     "output_type": "execute_result"
    }
   ],
   "source": [
    "y"
   ]
  },
  {
   "cell_type": "code",
   "execution_count": 7,
   "metadata": {},
   "outputs": [
    {
     "data": {
      "text/plain": [
       "array([10002, 10002, 10002, ..., 15925, 15925, 15925])"
      ]
     },
     "execution_count": 7,
     "metadata": {},
     "output_type": "execute_result"
    }
   ],
   "source": [
    "g"
   ]
  },
  {
   "cell_type": "code",
   "execution_count": 2,
   "metadata": {},
   "outputs": [
    {
     "name": "stdout",
     "output_type": "stream",
     "text": [
      "(9630, 46) (9630,) (9630,)\n"
     ]
    }
   ],
   "source": [
    "print(X.shape, y.shape, g.shape)"
   ]
  },
  {
   "cell_type": "code",
   "execution_count": 3,
   "metadata": {},
   "outputs": [
    {
     "data": {
      "text/plain": [
       "(9630, 47)"
      ]
     },
     "execution_count": 3,
     "metadata": {},
     "output_type": "execute_result"
    }
   ],
   "source": [
    "group_X.shape"
   ]
  },
  {
   "cell_type": "code",
   "execution_count": 4,
   "metadata": {},
   "outputs": [],
   "source": [
    "from xgb_sklearn.rank_sklearn import XGBRanker\n",
    "from xgb_sklearn.rank_GroupKFold import Rank_GroupKFold\n",
    "from xgb_sklearn.ndcg_scorer import ndcg_at_5_scoring, ndcg_at_3_scoring, ndcg_at_10_scoring"
   ]
  },
  {
   "cell_type": "code",
   "execution_count": 6,
   "metadata": {},
   "outputs": [],
   "source": [
    "# ranker = XGBRanker(learning_rate=0.1, n_estimators=140, max_depth=8, reg_lambda=1.4, reg_alpha=0.6,\n",
    "#                        min_child_weight=1, gamma=0, subsample=0.8, colsample_bytree=0.8,\n",
    "#                        n_jobs=-1, scale_pos_weight=1, silent=True, seed=27)\n",
    "# ranker.fit(group_X, y)\n",
    "\n",
    "# print(ranker.score(group_X, y))\n",
    "\n",
    "# print(ranker.predict(group_X))\n",
    "\n",
    "# print(ranker.apply(group_X))"
   ]
  },
  {
   "cell_type": "code",
   "execution_count": null,
   "metadata": {},
   "outputs": [],
   "source": []
  }
 ],
 "metadata": {
  "interpreter": {
   "hash": "e89818550173af64f907ec118c9956e687d5d2148ac97118dae838f99409dbb6"
  },
  "kernelspec": {
   "display_name": "Python 3.7.10 ('base')",
   "language": "python",
   "name": "python3"
  },
  "language_info": {
   "codemirror_mode": {
    "name": "ipython",
    "version": 3
   },
   "file_extension": ".py",
   "mimetype": "text/x-python",
   "name": "python",
   "nbconvert_exporter": "python",
   "pygments_lexer": "ipython3",
   "version": "3.7.10"
  },
  "orig_nbformat": 4
 },
 "nbformat": 4,
 "nbformat_minor": 2
}
